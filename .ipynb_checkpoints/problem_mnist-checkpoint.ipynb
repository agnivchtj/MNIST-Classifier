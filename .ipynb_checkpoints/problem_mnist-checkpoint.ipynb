{
 "cells": [
  {
   "cell_type": "markdown",
   "metadata": {},
   "source": [
    "# MNIST"
   ]
  },
  {
   "cell_type": "code",
   "execution_count": 1,
   "metadata": {},
   "outputs": [],
   "source": [
    "import numpy as np\n",
    "import pandas as pd\n",
    "\n",
    "from sklearn.naive_bayes import GaussianNB\n",
    "from sklearn.dummy import DummyClassifier\n",
    "from sklearn.tree import DecisionTreeClassifier\n",
    "from sklearn.svm import SVC\n",
    "from sklearn.neighbors import KNeighborsClassifier\n",
    "from sklearn.linear_model import LogisticRegression\n",
    "from sklearn.model_selection import train_test_split\n",
    "from sklearn.model_selection import cross_val_score\n",
    "\n",
    "\n",
    "\n",
    "import matplotlib.pyplot as plt"
   ]
  },
  {
   "cell_type": "markdown",
   "metadata": {},
   "source": [
    "## Global config"
   ]
  },
  {
   "cell_type": "code",
   "execution_count": 2,
   "metadata": {},
   "outputs": [],
   "source": [
    "# TODO"
   ]
  },
  {
   "cell_type": "markdown",
   "metadata": {},
   "source": [
    "## Load data"
   ]
  },
  {
   "cell_type": "code",
   "execution_count": 3,
   "metadata": {},
   "outputs": [],
   "source": [
    "mnist_28x28_train = np.load(\"mnist_28x28_train.npy\")\n",
    "mnist_8x8_train = np.load(\"mnist_8x8_train.npy\")\n",
    "train_labels = np.load(\"train_labels.npy\")\n",
    "\n",
    "mnist_28x28_test = np.load(\"mnist_28x28_test.npy\")\n",
    "mnist_8x8_test = np.load(\"mnist_8x8_test.npy\")"
   ]
  },
  {
   "cell_type": "markdown",
   "metadata": {},
   "source": [
    "## Helpers"
   ]
  },
  {
   "cell_type": "code",
   "execution_count": 4,
   "metadata": {},
   "outputs": [],
   "source": [
    "# TODO"
   ]
  },
  {
   "cell_type": "markdown",
   "metadata": {},
   "source": [
    "##  Data exploration"
   ]
  },
  {
   "cell_type": "markdown",
   "metadata": {},
   "source": [
    "### Question 1\n",
    "\n",
    "(1 point) Explore the dataset by plotting the same image from both datasets side by\n",
    "side. How do these images compare? Which dataset do you expect to perform better?\n",
    "Clearly explain why you suspect that. Use no more than 75 words.\n",
    "\n",
    "Hint: `plt.imshow`"
   ]
  },
  {
   "cell_type": "code",
   "execution_count": 5,
   "metadata": {},
   "outputs": [
    {
     "name": "stdout",
     "output_type": "stream",
     "text": [
      "Length of training_set (28x28):  3750\n",
      "Length of training_set (8x8):  3750\n",
      "Number of training labels:  3750\n"
     ]
    },
    {
     "data": {
      "text/plain": [
       "<matplotlib.image.AxesImage at 0x140084a84a8>"
      ]
     },
     "execution_count": 5,
     "metadata": {},
     "output_type": "execute_result"
    },
    {
     "data": {
      "image/png": "[encoded data removed]",
      "text/plain": [
       "<Figure size 432x288 with 1 Axes>"
      ]
     },
     "metadata": {
      "needs_background": "light"
     },
     "output_type": "display_data"
    },
    {
     "data": {
      "image/png": "[encoded data removed]",
      "text/plain": [
       "<Figure size 432x288 with 1 Axes>"
      ]
     },
     "metadata": {
      "needs_background": "light"
     },
     "output_type": "display_data"
    }
   ],
   "source": [
    "# TODO\n",
    "print(\"Length of training_set (28x28): \", len(mnist_28x28_train));\n",
    "print(\"Length of training_set (8x8): \", len(mnist_8x8_train));\n",
    "print(\"Number of training labels: \", len(train_labels));\n",
    "\n",
    "plt.figure()\n",
    "plt.imshow(mnist_28x28_train[1])\n",
    "\n",
    "plt.figure()\n",
    "plt.imshow(mnist_8x8_train[1])\n"
   ]
  },
  {
   "cell_type": "markdown",
   "metadata": {},
   "source": [
    "##  Data Preparations"
   ]
  },
  {
   "cell_type": "markdown",
   "metadata": {},
   "source": [
    "### Question 1\n",
    "\n",
    "(3 points) Examine the features of both the datasets and decide if you need to do any\n",
    "data cleaning or preprocessing. If not, clearly explain why not. If yes, clearly explain\n",
    "why and what you did. Use no more than 100 words. (You might want to read the\n",
    "additional reading materials)."
   ]
  },
  {
   "cell_type": "code",
   "execution_count": 6,
   "metadata": {},
   "outputs": [
    {
     "name": "stdout",
     "output_type": "stream",
     "text": [
      "[[0. 0. 0. ... 0. 0. 0.]\n",
      " [0. 0. 0. ... 0. 0. 0.]\n",
      " [0. 0. 0. ... 0. 0. 0.]\n",
      " ...\n",
      " [0. 0. 0. ... 0. 0. 0.]\n",
      " [0. 0. 0. ... 0. 0. 0.]\n",
      " [0. 0. 0. ... 0. 0. 0.]]\n",
      "[[0. 0. 0. ... 0. 0. 0.]\n",
      " [0. 0. 0. ... 0. 0. 0.]\n",
      " [0. 0. 0. ... 0. 0. 0.]\n",
      " ...\n",
      " [0. 0. 0. ... 0. 0. 0.]\n",
      " [0. 0. 0. ... 0. 0. 0.]\n",
      " [0. 0. 0. ... 0. 0. 0.]]\n"
     ]
    }
   ],
   "source": [
    "# TODO\n",
    "# Preprocessing training data\n",
    "mnist_28x28_train = mnist_28x28_train.reshape((len(mnist_28x28_train), 28*28))\n",
    "mnist_28x28_train = mnist_28x28_train.astype('float32') / 255\n",
    "\n",
    "mnist_8x8_train = mnist_8x8_train.reshape((len(mnist_8x8_train), 8*8))\n",
    "mnist_8x8_train = mnist_8x8_train.astype('float32') / 255\n",
    "\n",
    "# Preprocessing test data\n",
    "mnist_28x28_test = mnist_28x28_test.reshape((len(mnist_28x28_test), 28*28))\n",
    "mnist_28x28_test = mnist_28x28_test.astype('float32') / 255\n",
    "\n",
    "mnist_8x8_test = mnist_8x8_test.reshape((len(mnist_8x8_test), 8*8))\n",
    "mnist_8x8_test = mnist_8x8_test.astype('float32') / 255\n",
    "\n",
    "for i in range(len(mnist_28x28_train)):\n",
    "    for j in range(784):\n",
    "        if mnist_28x28_train[i,j] < 0.2:\n",
    "            mnist_28x28_train[i,j] = 0\n",
    "\n",
    "for i in range(len(mnist_8x8_train)):\n",
    "    for j in range(64):\n",
    "        if mnist_8x8_train[i,j] < 0.2:\n",
    "            mnist_8x8_train[i,j] = 0\n",
    "               \n",
    "for i in range(len(mnist_28x28_test)):\n",
    "    for j in range(784):\n",
    "        if mnist_28x28_test[i,j] < 0.2:\n",
    "            mnist_28x28_test[i,j] = 0\n",
    "               \n",
    "for i in range(len(mnist_8x8_test)):\n",
    "    for j in range(64):\n",
    "        if mnist_8x8_test[i,j] < 0.2:\n",
    "            mnist_8x8_test[i,j] = 0\n",
    "            \n",
    "print(mnist_28x28_train)\n",
    "print(mnist_8x8_train)"
   ]
  },
  {
   "cell_type": "markdown",
   "metadata": {},
   "source": [
    "## Experiments"
   ]
  },
  {
   "cell_type": "markdown",
   "metadata": {},
   "source": [
    "### Question 1\n",
    "\n",
    "(1 point) Now set up your experiment. Clearly explain how you divided the data and\n",
    "how you ensured a valid measurement. Use no more than 100 words."
   ]
  },
  {
   "cell_type": "code",
   "execution_count": 7,
   "metadata": {},
   "outputs": [],
   "source": [
    "# TODO\n",
    "x_train_28x28, x_test_28x28, y_train_28x28, y_test_28x28 = train_test_split(mnist_28x28_train, train_labels, test_size = 0.1)\n",
    "\n",
    "x_train_8x8, x_test_8x8, y_train_8x8, y_test_8x8 = train_test_split(mnist_8x8_train, train_labels, test_size = 0.1)"
   ]
  },
  {
   "cell_type": "markdown",
   "metadata": {},
   "source": [
    "### Question 2\n",
    "\n",
    "(2 points) Fit the five algorithms using Scikit-learn’s default hyper-parameters. Create a useful plot that shows the performances of the algorithms. Clearly explain what these plots tell us about the performances of the algorithms. Also, clearly explain why you think some algorithms perform better than others and why some of them preform better on one dataset than the other. \n",
    "Use no more than 200 words and two plots (but 1 is sufficient)."
   ]
  },
  {
   "cell_type": "code",
   "execution_count": 8,
   "metadata": {},
   "outputs": [
    {
     "name": "stdout",
     "output_type": "stream",
     "text": [
      "GaussianNB\n",
      "0.5504\n",
      "DecisionTreeClassifier\n",
      "0.7333333333333334\n",
      "KNeighborsClassifier\n",
      "0.9261333333333333\n",
      "SVC\n",
      "0.9298666666666667\n",
      "LogisticRegression\n",
      "0.8535999999999999\n"
     ]
    },
    {
     "data": {
      "image/png": "[encoded data removed]",
      "text/plain": [
       "<Figure size 432x288 with 1 Axes>"
      ]
     },
     "metadata": {
      "needs_background": "light"
     },
     "output_type": "display_data"
    },
    {
     "name": "stdout",
     "output_type": "stream",
     "text": [
      "GaussianNB\n",
      "0.47173333333333334\n",
      "DecisionTreeClassifier\n",
      "0.7496\n",
      "KNeighborsClassifier\n",
      "0.9066666666666666\n",
      "SVC\n",
      "0.9029333333333334\n",
      "LogisticRegression\n",
      "0.8589333333333334\n"
     ]
    },
    {
     "data": {
      "image/png": "[encoded data removed]",
      "text/plain": [
       "<Figure size 432x288 with 1 Axes>"
      ]
     },
     "metadata": {
      "needs_background": "light"
     },
     "output_type": "display_data"
    }
   ],
   "source": [
    "import warnings\n",
    "warnings.filterwarnings(\"ignore\")\n",
    "# TODO\n",
    "random_state = 42\n",
    "models = {\n",
    "    \"GaussianNB\": GaussianNB(),\n",
    "    \"DecisionTreeClassifier\": DecisionTreeClassifier(max_depth=None, min_samples_leaf=2, random_state=random_state),\n",
    "    \"KNeighborsClassifier\": KNeighborsClassifier(n_neighbors=3, weights=\"distance\"),\n",
    "    \"SVC\": SVC(C=10, kernel=\"poly\", random_state=random_state),\n",
    "    \"LogisticRegression\": LogisticRegression(C=10, penalty='none', random_state=random_state)\n",
    "}\n",
    "\n",
    "algos = [\"GaussianNB\", \"DecisionTree\", \"KNN\", \"SVC\", \"LogisticReg\"]\n",
    "model_28s = []\n",
    "model_8s = []\n",
    "\n",
    "for name, model in models.items():\n",
    "    print(name)\n",
    "    model_cv = cross_val_score(model, mnist_28x28_train, train_labels, cv=10)\n",
    "    model_28 = np.mean(model_cv)\n",
    "    model_28s.append(model_28)\n",
    "    print(model_28)\n",
    "    \n",
    "plt.scatter(algos, model_28s)\n",
    "plt.xlabel(\"Algorithms\")\n",
    "plt.ylabel(\"Performance\")\n",
    "plt.show()\n",
    "\n",
    "\n",
    "for name, model in models.items():\n",
    "    print(name)\n",
    "    model_cv = cross_val_score(model, mnist_8x8_train, train_labels, cv=10)\n",
    "    model_8 = np.mean(model_cv)\n",
    "    model_8s.append(model_8)\n",
    "    print(model_8)\n",
    "    \n",
    "plt.scatter(algos, model_8s)\n",
    "plt.xlabel(\"Algorithms\")\n",
    "plt.ylabel(\"Performance\")\n",
    "plt.show()"
   ]
  },
  {
   "cell_type": "markdown",
   "metadata": {},
   "source": [
    "### Question 3\n",
    "\n",
    "(2 points) Now perform hyper-parameter tuning on the key hyper-parameters you have previously identified. Clearly explain what you did and how you did this. \n",
    "Use no more than 200 words."
   ]
  },
  {
   "cell_type": "code",
   "execution_count": 17,
   "metadata": {},
   "outputs": [
    {
     "name": "stdout",
     "output_type": "stream",
     "text": [
      "GaussianNB\n",
      "- best_score = 0.559404245606026\n",
      "best parameters:\n",
      "\n",
      "DecisionTreeClassifier\n",
      "- best_score = 0.7333318701385354\n",
      "best parameters:\n",
      "- max_depth 10\n",
      "- random_state 42\n",
      "\n",
      "KNeighborsClassifier\n",
      "- best_score = 0.923257773953962\n",
      "best parameters:\n",
      "- n_neighbors 4\n",
      "- weights distance\n",
      "\n",
      "SVC\n",
      "- best_score = 0.950222112970344\n",
      "best parameters:\n",
      "- C 10\n",
      "- kernel rbf\n",
      "- random_state 42\n",
      "\n",
      "LogisticRegression\n",
      "- best_score = 0.8589486067459132\n",
      "best parameters:\n",
      "- C 1.0\n",
      "- penalty none\n",
      "- random_state 42\n",
      "\n",
      "GaussianNB\n",
      "- best_score = 0.49331993046898315\n",
      "best parameters:\n",
      "\n",
      "DecisionTreeClassifier\n",
      "- best_score = 0.7472529980861412\n",
      "best parameters:\n",
      "- max_depth None\n",
      "- random_state 42\n",
      "\n",
      "KNeighborsClassifier\n",
      "- best_score = 0.9054852246589293\n",
      "best parameters:\n",
      "- n_neighbors 4\n",
      "- weights distance\n",
      "\n",
      "SVC\n",
      "- best_score = 0.9294699137885625\n",
      "best parameters:\n",
      "- C 10\n",
      "- kernel rbf\n",
      "- random_state 42\n",
      "\n",
      "LogisticRegression\n",
      "- best_score = 0.8589486067459132\n",
      "best parameters:\n",
      "- C 1.0\n",
      "- penalty none\n",
      "- random_state 42\n",
      "\n"
     ]
    }
   ],
   "source": [
    "# TODO\n",
    "from sklearn.model_selection import GridSearchCV\n",
    "\n",
    "model_parameters = {\n",
    "    \"GaussianNB\": {\n",
    "        \n",
    "    },\n",
    "    \"DecisionTreeClassifier\": {\n",
    "        'random_state': [random_state], \n",
    "        'max_depth': [None, 2, 5, 10]\n",
    "    },\n",
    "    # START ANSWER\n",
    "    \"KNeighborsClassifier\": {\n",
    "        'n_neighbors': list(range(1, 15)), \n",
    "        'weights': [\"distance\"]\n",
    "    },\n",
    "    \"SVC\": {\n",
    "        'random_state': [random_state],\n",
    "        'kernel': [\"poly\", \"rbf\"], \n",
    "        'C': [0.1, 1, 10, 100]\n",
    "    },\n",
    "    \"LogisticRegression\": {\n",
    "        'random_state': [random_state],\n",
    "        'penalty': [\"none\"], \n",
    "        'C': np.logspace(0, 4, 20)\n",
    "    }\n",
    "    # END ANSWER\n",
    "}\n",
    "\n",
    "\n",
    "tuned_28s = []\n",
    "for model_name, parameters in model_parameters.items():\n",
    "    model = models[model_name]\n",
    "    \n",
    "    grid_search = GridSearchCV(model, parameters, cv = 10).fit(x_train_28x28, y_train_28x28)\n",
    "    \n",
    "    best_model = grid_search.best_estimator_\n",
    "    best_score = grid_search.best_score_\n",
    "    best_params = grid_search.best_params_\n",
    "    tuned_28s.append(best_score)\n",
    "    \n",
    "    print(model_name)\n",
    "    print(\"- best_score =\", best_score)\n",
    "    print(\"best parameters:\")\n",
    "    for k,v in best_params.items():\n",
    "        print(\"-\", k, v)\n",
    "    print(\"\")\n",
    "    \n",
    "\n",
    "\n",
    "tuned_8s = []\n",
    "for model_name, parameters in model_parameters.items():\n",
    "    model = models[model_name]\n",
    "    \n",
    "    grid_search = GridSearchCV(model, parameters, cv = 10).fit(x_train_8x8, y_train_8x8)\n",
    "    \n",
    "    best_model = grid_search.best_estimator_\n",
    "    best_score = grid_search.best_score_\n",
    "    best_params = grid_search.best_params_\n",
    "    tuned_8s.append(best_score)\n",
    "    \n",
    "    print(model_name)\n",
    "    print(\"- best_score =\", best_score)\n",
    "    print(\"best parameters:\")\n",
    "    for k,v in best_params.items():\n",
    "        print(\"-\", k, v)\n",
    "    print(\"\")"
   ]
  },
  {
   "cell_type": "markdown",
   "metadata": {},
   "source": [
    "### Question 4\n",
    "\n",
    "(2 points) Compare the performance of the algorithms with and without hyper-parameter tuning. How did the tuning affect your result? Clearly explain the results and the differences. Use no more than 200 words and two plots (but 1 is sufficient)."
   ]
  },
  {
   "cell_type": "code",
   "execution_count": 19,
   "metadata": {},
   "outputs": [
    {
     "data": {
      "image/png": "[encoded data removed]",
      "text/plain": [
       "<Figure size 432x288 with 1 Axes>"
      ]
     },
     "metadata": {
      "needs_background": "light"
     },
     "output_type": "display_data"
    },
    {
     "data": {
      "image/png": "[encoded data removed]",
      "text/plain": [
       "<Figure size 432x288 with 1 Axes>"
      ]
     },
     "metadata": {
      "needs_background": "light"
     },
     "output_type": "display_data"
    }
   ],
   "source": [
    "#TODO\n",
    "plt.scatter(algos, model_28s)\n",
    "plt.xlabel(\"Algorithms\")\n",
    "plt.ylabel(\"Performance (Original)\")\n",
    "plt.show()\n",
    "\n",
    "plt.scatter(algos, tuned_28s)\n",
    "plt.xlabel(\"Algorithms\")\n",
    "plt.ylabel(\"Performance (Tuned)\")\n",
    "plt.show()"
   ]
  },
  {
   "cell_type": "markdown",
   "metadata": {},
   "source": [
    "### Question 5\n",
    "\n",
    "(1 points) Compare the performance of the algorithms with the 8x8 and 28x28 features.\n",
    "What effect do the additional features have? Also, state what you think causes this effect. \n",
    "Use no more than 75 words."
   ]
  },
  {
   "cell_type": "code",
   "execution_count": 20,
   "metadata": {},
   "outputs": [
    {
     "data": {
      "image/png": "[encoded data removed]",
      "text/plain": [
       "<Figure size 432x288 with 1 Axes>"
      ]
     },
     "metadata": {
      "needs_background": "light"
     },
     "output_type": "display_data"
    },
    {
     "data": {
      "image/png": "[encoded data removed]",
      "text/plain": [
       "<Figure size 432x288 with 1 Axes>"
      ]
     },
     "metadata": {
      "needs_background": "light"
     },
     "output_type": "display_data"
    }
   ],
   "source": [
    "#TODO\n",
    "plt.scatter(algos, tuned_28s)\n",
    "plt.xlabel(\"Algorithms\")\n",
    "plt.ylabel(\"Performance (28x28)\")\n",
    "plt.show()\n",
    "\n",
    "plt.scatter(algos, tuned_8s)\n",
    "plt.xlabel(\"Algorithms\")\n",
    "plt.ylabel(\"Performance (8x8)\")\n",
    "plt.show()"
   ]
  },
  {
   "cell_type": "markdown",
   "metadata": {},
   "source": [
    "### Question 6\n",
    "\n",
    "Select your best algorithm for this dataset and use it to make your predictions for the unknown samples. \n",
    "Feel free to use either the 8x8 or 28x28 features. Please note in your report which algorithm and feature set you chose."
   ]
  },
  {
   "cell_type": "code",
   "execution_count": 21,
   "metadata": {},
   "outputs": [],
   "source": [
    "#TODO\n",
    "model = SVC(C=10, kernel=\"rbf\", random_state=random_state)\n",
    "model.fit(mnist_28x28_train, train_labels)\n",
    "prediction = model.predict(mnist_28x28_test)\n",
    "pd.DataFrame(prediction).to_csv(\"GROUP_classes_problem_mnist.txt\", index=False, header=False)"
   ]
  },
  {
   "cell_type": "code",
   "execution_count": null,
   "metadata": {},
   "outputs": [],
   "source": []
  }
 ],
 "metadata": {
  "kernelspec": {
   "display_name": "Python 3",
   "language": "python",
   "name": "python3"
  },
  "language_info": {
   "codemirror_mode": {
    "name": "ipython",
    "version": 3
   },
   "file_extension": ".py",
   "mimetype": "text/x-python",
   "name": "python",
   "nbconvert_exporter": "python",
   "pygments_lexer": "ipython3",
   "version": "3.7.3"
  }
 },
 "nbformat": 4,
 "nbformat_minor": 4
}
